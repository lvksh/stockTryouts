{
 "cells": [
  {
   "source": [
    "# 同花顺理财验证"
   ],
   "cell_type": "markdown",
   "metadata": {}
  },
  {
   "cell_type": "markdown",
   "metadata": {},
   "source": [
    "## 获取各个股票的代码"
   ]
  },
  {
   "cell_type": "code",
   "execution_count": 1,
   "metadata": {},
   "outputs": [],
   "source": [
    "import tushare as ts\n",
    "token = '2c5b90e9594bc441a34040e214b4e42a7da2a06c55816229981d575a'\n",
    "pro = ts.pro_api(token = token)\n",
    "data = pro.stock_basic(exchange='', list_status='L', fields='ts_code,symbol,name,area,industry,list_date')\n",
    "stock_code = data.ts_code"
   ]
  },
  {
   "cell_type": "code",
   "execution_count": 2,
   "metadata": {},
   "outputs": [],
   "source": [
    "stock_code = stock_code.to_list()"
   ]
  },
  {
   "cell_type": "code",
   "execution_count": 67,
   "metadata": {},
   "outputs": [
    {
     "data": {
      "text/html": [
       "<div>\n",
       "<style scoped>\n",
       "    .dataframe tbody tr th:only-of-type {\n",
       "        vertical-align: middle;\n",
       "    }\n",
       "\n",
       "    .dataframe tbody tr th {\n",
       "        vertical-align: top;\n",
       "    }\n",
       "\n",
       "    .dataframe thead th {\n",
       "        text-align: right;\n",
       "    }\n",
       "</style>\n",
       "<table border=\"1\" class=\"dataframe\">\n",
       "  <thead>\n",
       "    <tr style=\"text-align: right;\">\n",
       "      <th></th>\n",
       "      <th>ts_code</th>\n",
       "      <th>trade_date</th>\n",
       "      <th>open</th>\n",
       "      <th>high</th>\n",
       "      <th>low</th>\n",
       "      <th>close</th>\n",
       "      <th>pre_close</th>\n",
       "      <th>change</th>\n",
       "      <th>pct_chg</th>\n",
       "      <th>vol</th>\n",
       "      <th>amount</th>\n",
       "    </tr>\n",
       "  </thead>\n",
       "  <tbody>\n",
       "    <tr>\n",
       "      <th>0</th>\n",
       "      <td>000001.SZ</td>\n",
       "      <td>20180102</td>\n",
       "      <td>13.35</td>\n",
       "      <td>13.93</td>\n",
       "      <td>13.32</td>\n",
       "      <td>13.70</td>\n",
       "      <td>13.30</td>\n",
       "      <td>0.40</td>\n",
       "      <td>3.0100</td>\n",
       "      <td>2081592.55</td>\n",
       "      <td>2856543.822</td>\n",
       "    </tr>\n",
       "    <tr>\n",
       "      <th>1</th>\n",
       "      <td>000001.SZ</td>\n",
       "      <td>20180103</td>\n",
       "      <td>13.73</td>\n",
       "      <td>13.86</td>\n",
       "      <td>13.20</td>\n",
       "      <td>13.33</td>\n",
       "      <td>13.70</td>\n",
       "      <td>-0.37</td>\n",
       "      <td>-2.7000</td>\n",
       "      <td>2962498.38</td>\n",
       "      <td>4006220.766</td>\n",
       "    </tr>\n",
       "    <tr>\n",
       "      <th>2</th>\n",
       "      <td>000001.SZ</td>\n",
       "      <td>20180104</td>\n",
       "      <td>13.32</td>\n",
       "      <td>13.37</td>\n",
       "      <td>13.13</td>\n",
       "      <td>13.25</td>\n",
       "      <td>13.33</td>\n",
       "      <td>-0.08</td>\n",
       "      <td>-0.6000</td>\n",
       "      <td>1854509.48</td>\n",
       "      <td>2454543.516</td>\n",
       "    </tr>\n",
       "    <tr>\n",
       "      <th>3</th>\n",
       "      <td>000001.SZ</td>\n",
       "      <td>20180105</td>\n",
       "      <td>13.21</td>\n",
       "      <td>13.35</td>\n",
       "      <td>13.15</td>\n",
       "      <td>13.30</td>\n",
       "      <td>13.25</td>\n",
       "      <td>0.05</td>\n",
       "      <td>0.3800</td>\n",
       "      <td>1210312.72</td>\n",
       "      <td>1603289.517</td>\n",
       "    </tr>\n",
       "    <tr>\n",
       "      <th>4</th>\n",
       "      <td>000001.SZ</td>\n",
       "      <td>20180108</td>\n",
       "      <td>13.25</td>\n",
       "      <td>13.29</td>\n",
       "      <td>12.86</td>\n",
       "      <td>12.96</td>\n",
       "      <td>13.30</td>\n",
       "      <td>-0.34</td>\n",
       "      <td>-2.5600</td>\n",
       "      <td>2158620.81</td>\n",
       "      <td>2806099.169</td>\n",
       "    </tr>\n",
       "    <tr>\n",
       "      <th>...</th>\n",
       "      <td>...</td>\n",
       "      <td>...</td>\n",
       "      <td>...</td>\n",
       "      <td>...</td>\n",
       "      <td>...</td>\n",
       "      <td>...</td>\n",
       "      <td>...</td>\n",
       "      <td>...</td>\n",
       "      <td>...</td>\n",
       "      <td>...</td>\n",
       "      <td>...</td>\n",
       "    </tr>\n",
       "    <tr>\n",
       "      <th>806</th>\n",
       "      <td>000001.SZ</td>\n",
       "      <td>20210428</td>\n",
       "      <td>23.29</td>\n",
       "      <td>23.45</td>\n",
       "      <td>22.78</td>\n",
       "      <td>23.35</td>\n",
       "      <td>22.94</td>\n",
       "      <td>0.41</td>\n",
       "      <td>1.7873</td>\n",
       "      <td>593837.93</td>\n",
       "      <td>1375141.409</td>\n",
       "    </tr>\n",
       "    <tr>\n",
       "      <th>807</th>\n",
       "      <td>000001.SZ</td>\n",
       "      <td>20210429</td>\n",
       "      <td>23.34</td>\n",
       "      <td>23.71</td>\n",
       "      <td>23.11</td>\n",
       "      <td>23.59</td>\n",
       "      <td>23.35</td>\n",
       "      <td>0.24</td>\n",
       "      <td>1.0278</td>\n",
       "      <td>614836.88</td>\n",
       "      <td>1439823.965</td>\n",
       "    </tr>\n",
       "    <tr>\n",
       "      <th>808</th>\n",
       "      <td>000001.SZ</td>\n",
       "      <td>20210430</td>\n",
       "      <td>23.35</td>\n",
       "      <td>23.49</td>\n",
       "      <td>23.01</td>\n",
       "      <td>23.29</td>\n",
       "      <td>23.59</td>\n",
       "      <td>-0.30</td>\n",
       "      <td>-1.2717</td>\n",
       "      <td>561981.32</td>\n",
       "      <td>1308177.202</td>\n",
       "    </tr>\n",
       "    <tr>\n",
       "      <th>809</th>\n",
       "      <td>000001.SZ</td>\n",
       "      <td>20210506</td>\n",
       "      <td>23.10</td>\n",
       "      <td>23.70</td>\n",
       "      <td>23.10</td>\n",
       "      <td>23.50</td>\n",
       "      <td>23.29</td>\n",
       "      <td>0.21</td>\n",
       "      <td>0.9017</td>\n",
       "      <td>500295.22</td>\n",
       "      <td>1174181.608</td>\n",
       "    </tr>\n",
       "    <tr>\n",
       "      <th>810</th>\n",
       "      <td>000001.SZ</td>\n",
       "      <td>20210507</td>\n",
       "      <td>23.67</td>\n",
       "      <td>24.30</td>\n",
       "      <td>23.39</td>\n",
       "      <td>24.05</td>\n",
       "      <td>23.50</td>\n",
       "      <td>0.55</td>\n",
       "      <td>2.3404</td>\n",
       "      <td>802214.21</td>\n",
       "      <td>1929112.374</td>\n",
       "    </tr>\n",
       "  </tbody>\n",
       "</table>\n",
       "<p>811 rows × 11 columns</p>\n",
       "</div>"
      ],
      "text/plain": [
       "       ts_code trade_date   open   high    low  close  pre_close  change  \\\n",
       "0    000001.SZ   20180102  13.35  13.93  13.32  13.70      13.30    0.40   \n",
       "1    000001.SZ   20180103  13.73  13.86  13.20  13.33      13.70   -0.37   \n",
       "2    000001.SZ   20180104  13.32  13.37  13.13  13.25      13.33   -0.08   \n",
       "3    000001.SZ   20180105  13.21  13.35  13.15  13.30      13.25    0.05   \n",
       "4    000001.SZ   20180108  13.25  13.29  12.86  12.96      13.30   -0.34   \n",
       "..         ...        ...    ...    ...    ...    ...        ...     ...   \n",
       "806  000001.SZ   20210428  23.29  23.45  22.78  23.35      22.94    0.41   \n",
       "807  000001.SZ   20210429  23.34  23.71  23.11  23.59      23.35    0.24   \n",
       "808  000001.SZ   20210430  23.35  23.49  23.01  23.29      23.59   -0.30   \n",
       "809  000001.SZ   20210506  23.10  23.70  23.10  23.50      23.29    0.21   \n",
       "810  000001.SZ   20210507  23.67  24.30  23.39  24.05      23.50    0.55   \n",
       "\n",
       "     pct_chg         vol       amount  \n",
       "0     3.0100  2081592.55  2856543.822  \n",
       "1    -2.7000  2962498.38  4006220.766  \n",
       "2    -0.6000  1854509.48  2454543.516  \n",
       "3     0.3800  1210312.72  1603289.517  \n",
       "4    -2.5600  2158620.81  2806099.169  \n",
       "..       ...         ...          ...  \n",
       "806   1.7873   593837.93  1375141.409  \n",
       "807   1.0278   614836.88  1439823.965  \n",
       "808  -1.2717   561981.32  1308177.202  \n",
       "809   0.9017   500295.22  1174181.608  \n",
       "810   2.3404   802214.21  1929112.374  \n",
       "\n",
       "[811 rows x 11 columns]"
      ]
     },
     "execution_count": 67,
     "metadata": {},
     "output_type": "execute_result"
    }
   ],
   "source": [
    "stock_df = pro.daily(ts_code='000001.SZ', start_date='20180101', end_date='20210508')\n",
    "stock_df = stock_df.iloc[::-1,:]\n",
    "stock_df.reset_index(inplace = True, drop = True)\n",
    "stock_df\n"
   ]
  },
  {
   "cell_type": "markdown",
   "metadata": {},
   "source": [
    "## 想要验证一下各种K线组合到底正确率有多少，先来看看三阳开泰？\n",
    "\n",
    "三阳开泰有如下四个形态特征。  \n",
    "1．由3根连续创新高的中阳线或大阳线组成。  \n",
    "2．出现在上涨行情初期。  \n",
    "3．每一天的最高价都高于前一天的最高价，每一天的最低价都高于前一天最低价。  \n",
    "4．每天的开盘在前一天的实体之内，也就是每根阳线的开盘价低于前一天的收盘价但高于前一天的开盘价。  "
   ]
  },
  {
   "cell_type": "code",
   "execution_count": 22,
   "metadata": {},
   "outputs": [
    {
     "data": {
      "image/png": "[encoded data removed]",
      "text/plain": [
       "<Figure size 800x575 with 2 Axes>"
      ]
     },
     "metadata": {},
     "output_type": "display_data"
    }
   ],
   "source": [
    "import mplfinance as mpf\n",
    "import tushare as ts\n",
    "import pandas as pd\n",
    "import seaborn as sns\n",
    "import matplotlib.pyplot as plt\n",
    "from matplotlib import ticker\n",
    "from matplotlib.pylab import date2num\n",
    "import numpy as np\n",
    "\n",
    "df = stock_df.iloc[:20,:]\n",
    "df.index = df.trade_date\n",
    "df.index.name = 'Date'\n",
    "df.index = pd.DatetimeIndex(df.index)\n",
    "mpf.plot(df[['open','high','low', 'close']], type = 'candle')"
   ]
  },
  {
   "cell_type": "code",
   "execution_count": 50,
   "metadata": {},
   "outputs": [
    {
     "name": "stdout",
     "output_type": "stream",
     "text": [
      "20190527\n"
     ]
    },
    {
     "data": {
      "image/png": "[encoded data removed]",
      "text/plain": [
       "<Figure size 800x575 with 2 Axes>"
      ]
     },
     "metadata": {},
     "output_type": "display_data"
    }
   ],
   "source": [
    "for i in range(stock_df.shape[0] - 3):\n",
    "    if stock_df.high[i+2] >= stock_df.high[i+1] and \\\n",
    "       stock_df.high[i+1] >= stock_df.high[i] and \\\n",
    "       stock_df.low[i+2] >= stock_df.low[i+1] and \\\n",
    "       stock_df.low[i+1] >= stock_df.low[i] and \\\n",
    "       stock_df.open[i+2] <= stock_df.close[i+1] and \\\n",
    "       stock_df.open[i+2] >= stock_df.open[i+1] and \\\n",
    "       stock_df.open[i+1] <= stock_df.close[i] and \\\n",
    "       stock_df.open[i+1] >= stock_df.open[i] and \\\n",
    "       stock_df.close[i+2] >= stock_df.open[i+2] and \\\n",
    "       stock_df.close[i+1] >= stock_df.open[i+1] and \\\n",
    "       stock_df.close[i] >= stock_df.open[i] :\n",
    "        min_index = max(0,i-5)\n",
    "        max_index = min(stock_df.shape[0], i+35)\n",
    "        print(stock_df.trade_date[i])\n",
    "        df = stock_df.iloc[min_index:max_index,:]\n",
    "        df.index = df.trade_date\n",
    "        df.index.name = 'Date'\n",
    "        df.index = pd.DatetimeIndex(df.index)\n",
    "        mpf.plot(df[['open','high','low', 'close']], type = 'candle')\n",
    "        break\n",
    "    "
   ]
  },
  {
   "cell_type": "markdown",
   "metadata": {},
   "source": [
    "得看看他对于后续多少天的上涨有多少预测能力？"
   ]
  },
  {
   "cell_type": "code",
   "execution_count": 68,
   "metadata": {
    "scrolled": false
   },
   "outputs": [
    {
     "name": "stdout",
     "output_type": "stream",
     "text": [
      "811天中总共发生了10次三阳开泰\n",
      "  7天上涨成功率为0.8， 平均涨幅为0.5240000000000004\n",
      "  14天上涨成功率为0.7， 平均涨幅为0.038000000000000256\n",
      "  21天上涨成功率为0.4， 平均涨幅为-0.19399999999999995\n",
      "  28天上涨成功率为0.6， 平均涨幅为0.047000000000000416\n",
      "  35天上涨成功率为0.5， 平均涨幅为0.07200000000000059\n"
     ]
    }
   ],
   "source": [
    "import numpy as np\n",
    "sykt_cnt = 0\n",
    "following_days_list = [7,14,21,28,35]\n",
    "following_days_accuracy = [0,0,0,0,0]\n",
    "following_days_avg_increase = [0,0,0,0,0]\n",
    "for i in range(stock_df.shape[0] - 35):\n",
    "    if stock_df.high[i+2] >= stock_df.high[i+1] and \\\n",
    "       stock_df.high[i+1] >= stock_df.high[i] and \\\n",
    "       stock_df.low[i+2] >= stock_df.low[i+1] and \\\n",
    "       stock_df.low[i+1] >= stock_df.low[i] and \\\n",
    "       stock_df.open[i+2] <= stock_df.close[i+1] and \\\n",
    "       stock_df.open[i+2] >= stock_df.open[i+1] and \\\n",
    "       stock_df.open[i+1] <= stock_df.close[i] and \\\n",
    "       stock_df.open[i+1] >= stock_df.open[i] and \\\n",
    "       stock_df.close[i+2] >= stock_df.open[i+2] and \\\n",
    "       stock_df.close[i+1] >= stock_df.open[i+1] and \\\n",
    "       stock_df.close[i] >= stock_df.open[i] :\n",
    "        min_index = max(0,i-5)\n",
    "        max_index = min(stock_df.shape[0], i+35)\n",
    "        #print(stock_df.trade_date[i])\n",
    "        df = stock_df.iloc[i:max_index,:]\n",
    "        df.index = df.trade_date\n",
    "        df.index.name = 'Date'\n",
    "        df.index = pd.DatetimeIndex(df.index)\n",
    "        #mpf.plot(df[['open','high','low', 'close']], type = 'candle')\n",
    "        #break\n",
    "        \n",
    "        sykt_cnt += 1\n",
    "        \n",
    "        \n",
    "        \n",
    "        for j in range(5):\n",
    "            following_days = following_days_list[j]\n",
    "            #print(stock_df.close[i + following_days] , stock_df.close[i])\n",
    "            following_days_avg_increase[j] += stock_df.close[i + following_days] - stock_df.close[i]\n",
    "            if stock_df.close[i + following_days] > stock_df.close[i]:\n",
    "                following_days_accuracy[j] +=1\n",
    "                \n",
    "following_days_accuracy = [item/sykt_cnt for item in following_days_accuracy]         \n",
    "following_days_avg_increase = [item/sykt_cnt for item in following_days_avg_increase]\n",
    "\n",
    "print(f\"{stock_df.shape[0]}天中总共发生了{sykt_cnt}次三阳开泰\")\n",
    "for j in range(5):\n",
    "    print(f\"  {following_days_list[j]}天上涨成功率为{following_days_accuracy[j]}， 平均涨幅为{following_days_avg_increase[j]}\")"
   ]
  },
  {
   "cell_type": "code",
   "execution_count": 72,
   "metadata": {},
   "outputs": [],
   "source": [
    "sykt_cnt = 0\n",
    "following_days_list = [7,14,21,28,35]\n",
    "following_days_accuracy = [0,0,0,0,0]\n",
    "following_days_avg_increase = [0,0,0,0,0]\n",
    "\n",
    "for ts_code in stock_code:\n",
    "    stock_df = pro.daily(ts_code=ts_code, start_date='20120101', end_date='20210508')\n",
    "    stock_df = stock_df.iloc[::-1,:]\n",
    "    stock_df.reset_index(inplace = True, drop = True)\n",
    "    for i in range(stock_df.shape[0] - 35):\n",
    "        if stock_df.high[i+2] >= stock_df.high[i+1] and \\\n",
    "           stock_df.high[i+1] >= stock_df.high[i] and \\\n",
    "           stock_df.low[i+2] >= stock_df.low[i+1] and \\\n",
    "           stock_df.low[i+1] >= stock_df.low[i] and \\\n",
    "           stock_df.open[i+2] <= stock_df.close[i+1] and \\\n",
    "           stock_df.open[i+2] >= stock_df.open[i+1] and \\\n",
    "           stock_df.open[i+1] <= stock_df.close[i] and \\\n",
    "           stock_df.open[i+1] >= stock_df.open[i] and \\\n",
    "           stock_df.close[i+2] >= stock_df.open[i+2] and \\\n",
    "           stock_df.close[i+1] >= stock_df.open[i+1] and \\\n",
    "           stock_df.close[i] >= stock_df.open[i] :\n",
    "\n",
    "\n",
    "\n",
    "            sykt_cnt += 1\n",
    "\n",
    "            for j in range(5):\n",
    "                following_days = following_days_list[j]\n",
    "                following_days_avg_increase[j] += stock_df.close[i + following_days] - stock_df.close[i]\n",
    "                if stock_df.close[i + following_days] > stock_df.close[i]:\n",
    "                    following_days_accuracy[j] +=1\n",
    "                \n",
    "following_days_accuracy = [item/sykt_cnt for item in following_days_accuracy]         \n",
    "following_days_avg_increase = [item/sykt_cnt for item in following_days_avg_increase]\n",
    "\n"
   ]
  },
  {
   "cell_type": "code",
   "execution_count": 75,
   "metadata": {},
   "outputs": [
    {
     "name": "stdout",
     "output_type": "stream",
     "text": [
      "4297个股票中总共发生了153727次三阳开泰\n",
      "  7天预测上涨成功率为0.7246417350237759， 平均涨幅为0.5708465656651144\n",
      "  14天预测上涨成功率为0.6717948050765318， 平均涨幅为0.5965416615168434\n",
      "  21天预测上涨成功率为0.6330377877666252， 平均涨幅为0.5644669446486245\n",
      "  28天预测上涨成功率为0.6018201096749433， 平均涨幅为0.48686177444430856\n",
      "  35天预测上涨成功率为0.5776929231689943， 平均涨幅为0.45466151033975816\n"
     ]
    }
   ],
   "source": [
    "print(f\"{len(stock_code)}个股票中总共发生了{sykt_cnt}次三阳开泰\")\n",
    "for j in range(5):\n",
    "    print(f\"  {following_days_list[j]}天预测上涨成功率为{following_days_accuracy[j]}， 平均涨幅为{following_days_avg_increase[j]}\")"
   ]
  },
  {
   "source": [
    "## 再来看看三个白武士\n",
    "\n",
    "是由三个短小且连续上升的阳线组成。K线的收盘价一天比一天高，而且还要求每天的开盘价在昨天阳线的实体之内。相当于后面两天股价是稍微低开，然后再次拉阳，三根阳线还要求上下影线都比较短，收盘价几乎是当日最高价。"
   ],
   "cell_type": "markdown",
   "metadata": {}
  },
  {
   "source": [
    "### 如果不要求上下影线较短呢？"
   ],
   "cell_type": "markdown",
   "metadata": {}
  },
  {
   "cell_type": "code",
   "execution_count": 8,
   "metadata": {},
   "outputs": [
    {
     "output_type": "stream",
     "name": "stderr",
     "text": [
      "100%|██████████| 4298/4298 [25:49<00:00,  2.77it/s]\n"
     ]
    }
   ],
   "source": [
    "from tqdm import tqdm, trange\n",
    "start_date='20150101'\n",
    "end_date='20210508'\n",
    "days_cnt = 0 \n",
    "sgbws_cnt = 0\n",
    "following_days_list = [7,14,21,28,35]\n",
    "following_days_accuracy = [0,0,0,0,0]\n",
    "following_days_avg_increase = [0,0,0,0,0]\n",
    "\n",
    "for k in trange(len(stock_code)):\n",
    "    ts_code = stock_code[k]\n",
    "    stock_df = pro.daily(ts_code=ts_code, start_date=start_date, end_date=end_date)\n",
    "    stock_df = stock_df.iloc[::-1,:]\n",
    "    stock_df.reset_index(inplace = True, drop = True)\n",
    "    days_cnt += stock_df.shape[0] - 35\n",
    "    for i in range(stock_df.shape[0] - 35):\n",
    "        if stock_df.close[i+2] >= stock_df.close[i+1] and \\\n",
    "           stock_df.close[i+1] >= stock_df.close[i] and \\\n",
    "           stock_df.open[i+2] <= stock_df.close[i+1] and \\\n",
    "           stock_df.open[i+2] >= stock_df.open[i+1] and \\\n",
    "           stock_df.open[i+1] <= stock_df.close[i] and \\\n",
    "           stock_df.open[i+1] >= stock_df.open[i] and \\\n",
    "           stock_df.close[i+2] >= stock_df.open[i+2] and \\\n",
    "           stock_df.close[i+1] >= stock_df.open[i+1] and \\\n",
    "           stock_df.close[i] >= stock_df.open[i] :\n",
    "\n",
    "\n",
    "\n",
    "            sgbws_cnt += 1\n",
    "\n",
    "            for j in range(5):\n",
    "                following_days = following_days_list[j]\n",
    "                following_days_avg_increase[j] += stock_df.close[i + following_days] - stock_df.close[i]\n",
    "                if stock_df.close[i + following_days] > stock_df.close[i]:\n",
    "                    following_days_accuracy[j] +=1\n",
    "                \n",
    "following_days_accuracy = [item/sgbws_cnt for item in following_days_accuracy]         \n",
    "following_days_avg_increase = [item/sgbws_cnt for item in following_days_avg_increase]\n",
    "\n"
   ]
  },
  {
   "cell_type": "code",
   "execution_count": 9,
   "metadata": {},
   "outputs": [
    {
     "output_type": "stream",
     "name": "stdout",
     "text": [
      "4298个股票在20150101-20210508这段时间4738383理论天中总共发生了142645次三个白武士\n  7天预测上涨成功率为0.6944091976585229， 平均涨幅为0.5780850362788802\n  14天预测上涨成功率为0.6386624136843212， 平均涨幅为0.5687452767359602\n  21天预测上涨成功率为0.5945599214834029， 平均涨幅为0.513775877177606\n  28天预测上涨成功率为0.5572154649654737， 平均涨幅为0.3788918644186644\n  35天预测上涨成功率为0.5375021907532685， 平均涨幅为0.33519268113148193\n"
     ]
    }
   ],
   "source": [
    "print(f\"{len(stock_code)}个股票在{start_date}-{end_date}这段时间{days_cnt}理论天中总共发生了{sgbws_cnt}次三个白武士\")\n",
    "for j in range(5):\n",
    "    print(f\"  {following_days_list[j]}天预测上涨成功率为{following_days_accuracy[j]}， 平均涨幅为{following_days_avg_increase[j]}\")"
   ]
  },
  {
   "source": [
    "试试并行"
   ],
   "cell_type": "markdown",
   "metadata": {}
  },
  {
   "cell_type": "code",
   "execution_count": 30,
   "metadata": {},
   "outputs": [
    {
     "output_type": "stream",
     "name": "stdout",
     "text": [
      "Cost time: 851.4392430782318s\n"
     ]
    }
   ],
   "source": [
    "from tqdm import tqdm, trange\n",
    "import multiprocessing as mp\n",
    "import time \n",
    "start_date='20150101'\n",
    "end_date='20210508'\n",
    "days_cnt=mp.Value(\"d\",0)\n",
    "sgbws_cnt=mp.Value(\"d\",0)\n",
    "following_days_list=mp.Manager().list([7,14,21,28,35])\n",
    "following_days_accuracy=mp.Manager().list([0,0,0,0,0])\n",
    "following_days_avg_increase=mp.Manager().list([0,0,0,0,0])\n",
    "\n",
    "def process(idList, days_cnt, sgbws_cnt, following_days_list, following_days_accuracy, following_days_avg_increase):\n",
    "    for ts_code in idList:\n",
    "        process_(ts_code, days_cnt, sgbws_cnt, following_days_list, following_days_accuracy, following_days_avg_increase)\n",
    "    pass\n",
    "\n",
    "def process_(ts_code, days_cnt, sgbws_cnt, following_days_list, following_days_accuracy, following_days_avg_increase):\n",
    "    try:\n",
    "        stock_df = pro.daily(ts_code=ts_code, start_date=start_date, end_date=end_date)\n",
    "    except:\n",
    "        time.sleep(60)\n",
    "        stock_df = pro.daily(ts_code=ts_code, start_date=start_date, end_date=end_date)\n",
    "    stock_df = stock_df.iloc[::-1,:]\n",
    "    stock_df.reset_index(inplace = True, drop = True)\n",
    "    days_cnt.value += stock_df.shape[0] - 35\n",
    "    for i in range(stock_df.shape[0] - 35):\n",
    "        if stock_df.close[i+2] >= stock_df.close[i+1] and \\\n",
    "           stock_df.close[i+1] >= stock_df.close[i] and \\\n",
    "           stock_df.open[i+2] <= stock_df.close[i+1] and \\\n",
    "           stock_df.open[i+2] >= stock_df.open[i+1] and \\\n",
    "           stock_df.open[i+1] <= stock_df.close[i] and \\\n",
    "           stock_df.open[i+1] >= stock_df.open[i] and \\\n",
    "           stock_df.close[i+2] >= stock_df.open[i+2] and \\\n",
    "           stock_df.close[i+1] >= stock_df.open[i+1] and \\\n",
    "           stock_df.close[i] >= stock_df.open[i] :\n",
    "            sgbws_cnt.value += 1\n",
    "            for j in range(5):\n",
    "                following_days = following_days_list[j]\n",
    "                following_days_avg_increase[j] += stock_df.close[i + following_days] - stock_df.close[i]\n",
    "                if stock_df.close[i + following_days] > stock_df.close[i]:\n",
    "                    following_days_accuracy[j] +=1\n",
    "\n",
    "#nb_process = int(mp.cpu_count()) - 1\n",
    "nb_process = 7\n",
    "l = list(np.array_split(stock_code, nb_process))\n",
    "l = [x.tolist() for x in l]\n",
    "\n",
    "process_list = [mp.Process(target=process, args = (idList,days_cnt, sgbws_cnt, following_days_list, following_days_accuracy, following_days_avg_increase)) for idList in l]\n",
    "\n",
    "time1=time.time()\n",
    "for p in process_list:\n",
    "    p.start()\n",
    "\n",
    "for p in process_list:\n",
    "    p.join()\n",
    "\n",
    "time2=time.time()\n",
    "print('Cost time: ' + str(time2 - time1) + 's')\n"
   ]
  },
  {
   "cell_type": "code",
   "execution_count": 31,
   "metadata": {},
   "outputs": [],
   "source": [
    "following_days_accuracy = [item/sgbws_cnt.value for item in following_days_accuracy]         \n",
    "following_days_avg_increase = [item/sgbws_cnt.value for item in following_days_avg_increase]"
   ]
  },
  {
   "cell_type": "code",
   "execution_count": 32,
   "metadata": {},
   "outputs": [
    {
     "output_type": "stream",
     "name": "stdout",
     "text": [
      "4298个股票在20150101-20210508这段时间4729307.0理论天中总共发生了142014.0次三个白武士\n  7天预测上涨成功率为0.6790105200895686， 平均涨幅为0.5252011069331086\n  14天预测上涨成功率为0.6264030306871153， 平均涨幅为0.5219864238737006\n  21天预测上涨成功率为0.5837452645513822， 平均涨幅为0.46885222583688657\n  28天预测上涨成功率为0.5481360992578197， 平均涨幅为0.33836635824636824\n  35天预测上涨成功率为0.528940808652668， 平均涨幅为0.3037125213007177\n"
     ]
    }
   ],
   "source": [
    "print(f\"{len(stock_code)}个股票在{start_date}-{end_date}这段时间{days_cnt.value}理论天中总共发生了{sgbws_cnt.value}次三个白武士\")\n",
    "for j in range(5):\n",
    "    print(f\"  {following_days_list[j]}天预测上涨成功率为{following_days_accuracy[j]}， 平均涨幅为{following_days_avg_increase[j]}\")"
   ]
  },
  {
   "source": [
    "### 如果要求上下影线较短呢？\n",
    "首先[这里](https://www.csai.cn/v/14868.html)说每天的收盘等于或接近当天的最高价就是较短，那我定义成上影线的长度小于实体长度的1/2吧。"
   ],
   "cell_type": "markdown",
   "metadata": {}
  },
  {
   "cell_type": "code",
   "execution_count": 33,
   "metadata": {},
   "outputs": [
    {
     "output_type": "stream",
     "name": "stdout",
     "text": [
      "Cost time: 602.6155891418457s\n4298个股票在20150101-20210508这段时间4729742.0理论天中总共发生了14914.0次三个白武士\n  7天预测上涨成功率为0.7738366635376157， 平均涨幅为0.8754398551696442\n  14天预测上涨成功率为0.6970631621295427， 平均涨幅为0.7999590988333121\n  21天预测上涨成功率为0.641544857181172， 平均涨幅为0.6519263778999562\n  28天预测上涨成功率为0.603929194045863， 平均涨幅为0.5453024004291273\n  35天预测上涨成功率为0.5819364355638997， 平均涨幅为0.542665951455011\n"
     ]
    }
   ],
   "source": [
    "from tqdm import tqdm, trange\n",
    "import multiprocessing as mp\n",
    "import time \n",
    "start_date='20150101'\n",
    "end_date='20210508'\n",
    "days_cnt=mp.Value(\"d\",0)\n",
    "sgbws_cnt=mp.Value(\"d\",0)\n",
    "following_days_list=mp.Manager().list([7,14,21,28,35])\n",
    "following_days_accuracy=mp.Manager().list([0,0,0,0,0])\n",
    "following_days_avg_increase=mp.Manager().list([0,0,0,0,0])\n",
    "\n",
    "def process(idList, days_cnt, sgbws_cnt, following_days_list, following_days_accuracy, following_days_avg_increase):\n",
    "    for ts_code in idList:\n",
    "        process_(ts_code, days_cnt, sgbws_cnt, following_days_list, following_days_accuracy, following_days_avg_increase)\n",
    "    pass\n",
    "\n",
    "def process_(ts_code, days_cnt, sgbws_cnt, following_days_list, following_days_accuracy, following_days_avg_increase):\n",
    "    while True:\n",
    "        try:\n",
    "            stock_df = pro.daily(ts_code=ts_code, start_date=start_date, end_date=end_date)\n",
    "            break\n",
    "        except:\n",
    "            time.sleep(15)\n",
    "            #stock_df = pro.daily(ts_code=ts_code, start_date=start_date, end_date=end_date)\n",
    "    stock_df = stock_df.iloc[::-1,:]\n",
    "    stock_df.reset_index(inplace = True, drop = True)\n",
    "    days_cnt.value += stock_df.shape[0] - 35\n",
    "    for i in range(stock_df.shape[0] - 35):\n",
    "        if stock_df.close[i+2] >= stock_df.close[i+1] and \\\n",
    "           stock_df.close[i+1] >= stock_df.close[i] and \\\n",
    "           stock_df.open[i+2] <= stock_df.close[i+1] and \\\n",
    "           stock_df.open[i+2] >= stock_df.open[i+1] and \\\n",
    "           stock_df.open[i+1] <= stock_df.close[i] and \\\n",
    "           stock_df.open[i+1] >= stock_df.open[i] and \\\n",
    "           stock_df.close[i+2] >= stock_df.open[i+2] and \\\n",
    "           stock_df.close[i+1] >= stock_df.open[i+1] and \\\n",
    "           stock_df.close[i] >= stock_df.open[i] and\\\n",
    "           stock_df.high[i+2] - stock_df.close[i+2] <= 1/2 * (stock_df.close[i+2] - stock_df.open[i+2])  and \\\n",
    "           stock_df.high[i+1] - stock_df.close[i+1] <= 1/2 * (stock_df.close[i+1] - stock_df.open[i+1])  and \\\n",
    "           stock_df.high[i] - stock_df.close[i] <= 1/2 * (stock_df.close[i] - stock_df.open[i])   :\n",
    "            sgbws_cnt.value += 1\n",
    "            for j in range(5):\n",
    "                following_days = following_days_list[j]\n",
    "                following_days_avg_increase[j] += stock_df.close[i + following_days] - stock_df.close[i]\n",
    "                if stock_df.close[i + following_days] > stock_df.close[i]:\n",
    "                    following_days_accuracy[j] +=1\n",
    "\n",
    "#nb_process = int(mp.cpu_count()) - 1\n",
    "nb_process = 7\n",
    "l = list(np.array_split(stock_code, nb_process))\n",
    "l = [x.tolist() for x in l]\n",
    "\n",
    "process_list = [mp.Process(target=process, args = (idList,days_cnt, sgbws_cnt, following_days_list, following_days_accuracy, following_days_avg_increase)) for idList in l]\n",
    "\n",
    "time1=time.time()\n",
    "for p in process_list:\n",
    "    p.start()\n",
    "\n",
    "for p in process_list:\n",
    "    p.join()\n",
    "\n",
    "time2=time.time()\n",
    "print('Cost time: ' + str(time2 - time1) + 's')\n",
    "\n",
    "following_days_accuracy = [item/sgbws_cnt.value for item in following_days_accuracy]         \n",
    "following_days_avg_increase = [item/sgbws_cnt.value for item in following_days_avg_increase]\n",
    "print(f\"{len(stock_code)}个股票在{start_date}-{end_date}这段时间{days_cnt.value}理论天中总共发生了{sgbws_cnt.value}次三个白武士\")\n",
    "for j in range(5):\n",
    "    print(f\"  {following_days_list[j]}天预测上涨成功率为{following_days_accuracy[j]}， 平均涨幅为{following_days_avg_increase[j]}\")"
   ]
  },
  {
   "source": [
    "可以看到加上上影线较短这个限制条件后，发生的次数就减少了很多！但是相应的成功率也增加很多！但是如果说用3天的K线数据去预测7天后的涨跌的话，估计还是不准的！因为不是每一种K线组合都有意义的。那么有没有什么办法可以找到一些类似的有效的K线组合呢？还是得用embeddings然后再聚类再人工整理特征吗？"
   ],
   "cell_type": "markdown",
   "metadata": {}
  },
  {
   "cell_type": "code",
   "execution_count": null,
   "metadata": {},
   "outputs": [],
   "source": []
  }
 ],
 "metadata": {
  "kernelspec": {
   "name": "python371jvsc74a57bd00031e0b06b84ebb77e32806dda3e732708f88d02a801a79902f71b61fa52eca2",
   "display_name": "Python 3.7.1 64-bit ('base': conda)"
  },
  "language_info": {
   "codemirror_mode": {
    "name": "ipython",
    "version": 3
   },
   "file_extension": ".py",
   "mimetype": "text/x-python",
   "name": "python",
   "nbconvert_exporter": "python",
   "pygments_lexer": "ipython3",
   "version": "3.7.1"
  },
  "toc": {
   "base_numbering": 1,
   "nav_menu": {},
   "number_sections": true,
   "sideBar": true,
   "skip_h1_title": false,
   "title_cell": "Table of Contents",
   "title_sidebar": "Contents",
   "toc_cell": false,
   "toc_position": {},
   "toc_section_display": true,
   "toc_window_display": false
  }
 },
 "nbformat": 4,
 "nbformat_minor": 4
}